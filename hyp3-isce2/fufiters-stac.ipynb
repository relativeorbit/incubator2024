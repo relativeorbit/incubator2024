{
 "cells": [
  {
   "cell_type": "markdown",
   "id": "8e5a2ce7-d890-4ed8-8a47-7d798389d0bc",
   "metadata": {},
   "source": [
    "# Browseable STAC catalog\n",
    "\n",
    "For custom Fufiters output "
   ]
  },
  {
   "cell_type": "code",
   "execution_count": 30,
   "id": "a4a07dbd",
   "metadata": {},
   "outputs": [],
   "source": [
    "# STAC Items already in S3\n",
    "import pystac\n",
    "import s3fs\n",
    "import utils\n"
   ]
  },
  {
   "cell_type": "code",
   "execution_count": 5,
   "id": "a72b9a12",
   "metadata": {},
   "outputs": [
    {
     "data": {
      "text/plain": [
       "['fufiters/012_023790_IW1',\n",
       " 'fufiters/121_258661_IW2',\n",
       " 'fufiters/20230621_20230703',\n",
       " 'fufiters/quinn',\n",
       " 'fufiters/scott']"
      ]
     },
     "execution_count": 5,
     "metadata": {},
     "output_type": "execute_result"
    }
   ],
   "source": [
    "s3 = s3fs.S3FileSystem() # reads local credentials\n",
    "s3.ls('s3://fufiters/')"
   ]
  },
  {
   "cell_type": "code",
   "execution_count": 6,
   "id": "29c092a2",
   "metadata": {},
   "outputs": [
    {
     "data": {
      "text/plain": [
       "['fufiters/121_258661_IW2/20230617_20230629/S1_258661_IW2_20230617_20230629_VV_INT20_EA08/S1_258661_IW2_20230617_20230629_VV_INT20_EA08.json']"
      ]
     },
     "execution_count": 6,
     "metadata": {},
     "output_type": "execute_result"
    }
   ],
   "source": [
    "jsonPath = 's3://fufiters/121_258661_IW2/20230617_20230629/S1_258661_IW2_20230617_20230629_VV_INT20_EA08/S1_258661_IW2_20230617_20230629_VV_INT20_EA08.json'\n",
    "s3.ls(jsonPath)"
   ]
  },
  {
   "cell_type": "code",
   "execution_count": 19,
   "id": "b9964af5",
   "metadata": {},
   "outputs": [],
   "source": [
    "from pystac.stac_io import DefaultStacIO, StacIO\n",
    "from urllib.parse import urlparse\n",
    "\n",
    "class CustomStacIO(DefaultStacIO):\n",
    "   def __init__(self):\n",
    "      self.s3 = s3fs.S3FileSystem()\n",
    "\n",
    "   def read_text(self, source, *args, **kwargs):\n",
    "      parsed = urlparse(source)\n",
    "      if parsed.scheme == \"s3\":\n",
    "         bucket = parsed.netloc\n",
    "         key = parsed.path[1:]\n",
    "\n",
    "         with s3.open(jsonPath, 'rb') as f:\n",
    "            text = f.read().decode(\"utf-8\")\n",
    "         return text\n",
    "      else:\n",
    "         return super().read_text(source, *args, **kwargs)\n",
    "\n",
    "#    def write_text(\n",
    "#       self, dest: Union[str, Link], txt: str, *args: Any, **kwargs: Any\n",
    "#    ) -> None:\n",
    "#       parsed = urlparse(dest)\n",
    "#       if parsed.scheme == \"s3\":\n",
    "#          bucket = parsed.netloc\n",
    "#          key = parsed.path[1:]\n",
    "#          self.s3.Object(bucket, key).put(Body=txt, ContentEncoding=\"utf-8\")\n",
    "#       else:\n",
    "#          super().write_text(dest, txt, *args, **kwargs)\n",
    "\n",
    "StacIO.set_default(CustomStacIO)"
   ]
  },
  {
   "cell_type": "code",
   "execution_count": 21,
   "id": "097a0dde",
   "metadata": {},
   "outputs": [],
   "source": [
    "item = pystac.read_file(jsonPath)"
   ]
  },
  {
   "cell_type": "code",
   "execution_count": 28,
   "id": "28e5ed93",
   "metadata": {},
   "outputs": [],
   "source": [
    "# List all items in STAC catalog \n",
    "items = s3.glob('fufiters/**/*INT20*.json')"
   ]
  },
  {
   "cell_type": "code",
   "execution_count": 29,
   "id": "c1a63361",
   "metadata": {},
   "outputs": [
    {
     "data": {
      "text/plain": [
       "['fufiters/121_258661_IW2/20230617_20230629/S1_258661_IW2_20230617_20230629_VV_INT20_EA08/S1_258661_IW2_20230617_20230629_VV_INT20_EA08.json',\n",
       " 'fufiters/121_258661_IW2/20230617_20230711/S1_258661_IW2_20230617_20230711_VV_INT20_B642/S1_258661_IW2_20230617_20230711_VV_INT20_B642.json',\n",
       " 'fufiters/121_258661_IW2/20230617_20230816/S1_258661_IW2_20230617_20230816_VV_INT20_3199/S1_258661_IW2_20230617_20230816_VV_INT20_3199.json']"
      ]
     },
     "execution_count": 29,
     "metadata": {},
     "output_type": "execute_result"
    }
   ],
   "source": [
    "items"
   ]
  },
  {
   "cell_type": "code",
   "execution_count": 31,
   "id": "bb2777eb",
   "metadata": {},
   "outputs": [
    {
     "data": {
      "text/html": [
       "\n",
       "\n",
       "<style>\n",
       ".pystac-summary {\n",
       "    cursor: pointer;\n",
       "    display:list-item;\n",
       "}\n",
       ".pystac-key {\n",
       "    color: rgb(0, 128, 0);\n",
       "    font-weight: 700;\n",
       "}\n",
       ".pystac-key-value {\n",
       "    display: inline-block;\n",
       "    margin: 0px 0.5em 0px 0px;\n",
       "}\n",
       "</style>\n",
       "<div class=\"jp-RenderedJSON jp-mod-trusted jp-OutputArea-output\">\n",
       "    <div class=\"container\" style=\"line-height: normal;\">\n",
       "        <ul style=\"padding: 0px; margin: 0px; list-style: none; display: block;\">\n",
       "            \n",
       "                \n",
       "                    \n",
       "        <li style=\"overflow-wrap: break-word; padding-left: 2.125em; text-indent: -0.5em;\">\n",
       "            <span class=\"pystac-key pystac-key-value\">rel</span>\n",
       "            <span style=\"color: rgb(186, 33, 33);\">\"child\"</span>\n",
       "        </li>\n",
       "    \n",
       "                \n",
       "            \n",
       "                \n",
       "                    \n",
       "        <li style=\"overflow-wrap: break-word; padding-left: 2.125em; text-indent: -0.5em;\">\n",
       "            <span class=\"pystac-key pystac-key-value\">href</span>\n",
       "            <span style=\"color: rgb(186, 33, 33);\">None</span>\n",
       "        </li>\n",
       "    \n",
       "                \n",
       "            \n",
       "                \n",
       "                    \n",
       "        <li style=\"overflow-wrap: break-word; padding-left: 2.125em; text-indent: -0.5em;\">\n",
       "            <span class=\"pystac-key pystac-key-value\">type</span>\n",
       "            <span style=\"color: rgb(186, 33, 33);\">\"application/json\"</span>\n",
       "        </li>\n",
       "    \n",
       "                \n",
       "            \n",
       "                \n",
       "                    \n",
       "        <li style=\"overflow-wrap: break-word; padding-left: 2.125em; text-indent: -0.5em;\">\n",
       "            <span class=\"pystac-key pystac-key-value\">title</span>\n",
       "            <span style=\"color: rgb(186, 33, 33);\">\"ASF S1 BURST INTERFEROGRAMS\"</span>\n",
       "        </li>\n",
       "    \n",
       "                \n",
       "            \n",
       "        </ul>\n",
       "    </div>\n",
       "</div>"
      ],
      "text/plain": [
       "<Link rel=child target=<Collection id=fufiters>>"
      ]
     },
     "execution_count": 31,
     "metadata": {},
     "output_type": "execute_result"
    }
   ],
   "source": [
    "CATALOG_ID = 'fufiters'\n",
    "\n",
    "# Create new\n",
    "catalog = pystac.Catalog(id=CATALOG_ID,\n",
    "                        description='https://github.com/relativeorbit/incubator2024')\n",
    "\n",
    "collection = utils.create_collection(CATALOG_ID)\n",
    "catalog.add_child(collection)\n",
    "collection.add_items(items)\n",
    "\n",
    "# NOTE: subcatalogs based on STAC properties and datetime pieces\n",
    "catalog.generate_subcatalogs(template='${burstId}/${year}')\n",
    "catalog.normalize_hrefs('./')\n",
    "catalog.validate()\n",
    "catalog.save(catalog_type=pystac.CatalogType.RELATIVE_PUBLISHED)"
   ]
  },
  {
   "cell_type": "code",
   "execution_count": null,
   "id": "9bef4d94",
   "metadata": {},
   "outputs": [],
   "source": [
    "# Load existing\n",
    "catalog = pystac.read_file('catalog.json')\n",
    "collection = list(catalog.get_collections())[0]\n",
    "\n",
    "collection.add_items(items)\n",
    "# NOTE: subcatalogs based on STAC properties and datetime pieces\n",
    "catalog.generate_subcatalogs(template='${burstId}/${year}')\n",
    "catalog.normalize_hrefs('./')\n",
    "catalog.validate()\n",
    "catalog.save(catalog_type=pystac.CatalogType.RELATIVE_PUBLISHED)"
   ]
  },
  {
   "cell_type": "markdown",
   "id": "419ab915",
   "metadata": {},
   "source": []
  }
 ],
 "metadata": {
  "kernelspec": {
   "display_name": "hyp3",
   "language": "python",
   "name": "python3"
  },
  "language_info": {
   "codemirror_mode": {
    "name": "ipython",
    "version": 3
   },
   "file_extension": ".py",
   "mimetype": "text/x-python",
   "name": "python",
   "nbconvert_exporter": "python",
   "pygments_lexer": "ipython3",
   "version": "3.12.1"
  }
 },
 "nbformat": 4,
 "nbformat_minor": 5
}
