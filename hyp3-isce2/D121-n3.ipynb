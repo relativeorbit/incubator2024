{
 "cells": [
  {
   "cell_type": "markdown",
   "id": "19d5ba9e-861d-4a01-8455-49ee241b50ac",
   "metadata": {},
   "source": [
    "# D121 - n+1, n+2, n+3 timespans"
   ]
  },
  {
   "cell_type": "code",
   "execution_count": 1,
   "id": "2724d04c-8bf7-4db1-be56-e746888ffc54",
   "metadata": {},
   "outputs": [],
   "source": [
    "import hyp3_sdk as sdk\n",
    "import asf_search as asf\n",
    "import geopandas as gpd\n",
    "import pandas as pd\n",
    "import os\n",
    "import copy"
   ]
  },
  {
   "cell_type": "code",
   "execution_count": 2,
   "id": "d7da0c45-c721-4b08-be87-456e428003db",
   "metadata": {},
   "outputs": [
    {
     "name": "stdout",
     "output_type": "stream",
     "text": [
      "User:scottyhq Quota:{'max_jobs_per_month': 3000, 'remaining': 2983}\n"
     ]
    }
   ],
   "source": [
    "hyp3 = sdk.HyP3() # 'https://hyp3-api.asf.alaska.edu'\n",
    "print('User:{user_id} Quota:{quota}'.format(**hyp3.my_info()))"
   ]
  },
  {
   "cell_type": "code",
   "execution_count": 3,
   "id": "5c389e32-45d1-471f-8317-b5f6985f1b57",
   "metadata": {},
   "outputs": [],
   "source": [
    "gfa = gpd.GeoDataFrame.from_features( {\n",
    "  \"type\": \"FeatureCollection\",\n",
    "  \"features\": [\n",
    "    {\n",
    "      \"type\": \"Feature\",\n",
    "      \"properties\": {},\n",
    "      \"geometry\": {\n",
    "        \"coordinates\": [\n",
    "          86.870901, \n",
    "          27.904352\n",
    "        ],\n",
    "        \"type\": \"Point\"\n",
    "      }\n",
    "    }\n",
    "  ]\n",
    "},\n",
    " crs=4326   \n",
    ")"
   ]
  },
  {
   "cell_type": "code",
   "execution_count": 4,
   "id": "23c9c2c7-5e85-411a-aae5-a796234fc1e7",
   "metadata": {},
   "outputs": [
    {
     "name": "stdout",
     "output_type": "stream",
     "text": [
      "34\n"
     ]
    }
   ],
   "source": [
    "results = asf.search(\n",
    "                    platform=[asf.PLATFORM.SENTINEL1],\n",
    "                    processingLevel=asf.BURST,\n",
    "                    beamMode=asf.BEAMMODE.IW,\n",
    "                    #relativeOrbit=relorb,\n",
    "                    polarization='VV',\n",
    "                    #flightDirection='ASCENDING',\n",
    "                    intersectsWith=str(gfa.geometry.values[0]),\n",
    "                    #start='2018-01-01',\n",
    "                    #end='2023-09-01',\n",
    "                    #season=[180,270], #first,last day of year June~30*6=180\n",
    "                    )\n",
    "gf = gpd.GeoDataFrame.from_features(results.geojson(), crs=4326)\n",
    "print(len(gf))\n",
    "# Useful to fine burstIDs of interest"
   ]
  },
  {
   "cell_type": "code",
   "execution_count": 5,
   "id": "d492d05d-6116-4327-9ac7-a95c1535fe79",
   "metadata": {},
   "outputs": [
    {
     "data": {
      "text/plain": [
       "burstId\n",
       "012_023790_IW1    18\n",
       "121_258661_IW2    16\n",
       "Name: sceneName, dtype: int64"
      ]
     },
     "execution_count": 5,
     "metadata": {},
     "output_type": "execute_result"
    }
   ],
   "source": [
    "gf['burstId'] = gf.burst.str['fullBurstID']\n",
    "gf.groupby('burstId').sceneName.count()"
   ]
  },
  {
   "cell_type": "code",
   "execution_count": 6,
   "id": "893814cd-bbd8-4475-8675-e181bba96209",
   "metadata": {},
   "outputs": [],
   "source": [
    "# Pick a single burst ID to work with\n",
    "burst = '121_258661_IW2'"
   ]
  },
  {
   "cell_type": "code",
   "execution_count": 7,
   "id": "d3292594-0c38-480a-b048-a7751017bf66",
   "metadata": {},
   "outputs": [
    {
     "name": "stderr",
     "output_type": "stream",
     "text": [
      "/Users/scott/miniforge3/envs/hyp3/lib/python3.12/site-packages/geopandas/geodataframe.py:1543: SettingWithCopyWarning: \n",
      "A value is trying to be set on a copy of a slice from a DataFrame.\n",
      "Try using .loc[row_indexer,col_indexer] = value instead\n",
      "\n",
      "See the caveats in the documentation: https://pandas.pydata.org/pandas-docs/stable/user_guide/indexing.html#returning-a-view-versus-a-copy\n",
      "  super().__setitem__(key, value)\n"
     ]
    }
   ],
   "source": [
    "# Look at timeline of acquisition\n",
    "gfb = gf[gf.burstId == burst]\n",
    "gfb['datetime'] = pd.to_datetime(gfb.startTime)"
   ]
  },
  {
   "cell_type": "code",
   "execution_count": 8,
   "id": "5f1a9077",
   "metadata": {},
   "outputs": [],
   "source": [
    "gfb = gfb.sort_values('datetime') # chronological ascending"
   ]
  },
  {
   "cell_type": "code",
   "execution_count": 9,
   "id": "1c93f2e7-ff1d-4a0c-be3a-43d645dd350f",
   "metadata": {},
   "outputs": [
    {
     "data": {
      "text/plain": [
       "count                                     16\n",
       "mean     2023-10-04 12:11:50.763450368+00:00\n",
       "min         2023-06-17 00:11:47.170650+00:00\n",
       "25%      2023-08-25 00:11:51.198982400+00:00\n",
       "50%      2023-10-09 00:11:52.520427008+00:00\n",
       "75%      2023-11-23 00:11:51.802771968+00:00\n",
       "max         2024-01-07 00:11:49.624996+00:00\n",
       "Name: datetime, dtype: object"
      ]
     },
     "execution_count": 9,
     "metadata": {},
     "output_type": "execute_result"
    }
   ],
   "source": [
    "gfb.datetime.describe()"
   ]
  },
  {
   "cell_type": "code",
   "execution_count": 10,
   "id": "0bc85913-07d5-45b3-bfb9-b27d406f1051",
   "metadata": {},
   "outputs": [
    {
     "data": {
      "text/plain": [
       "count                            15\n",
       "mean     13 days 14:24:00.163623066\n",
       "std       6 days 04:43:21.685988332\n",
       "min         11 days 23:59:59.099228\n",
       "25%      11 days 23:59:59.584068500\n",
       "50%         12 days 00:00:00.035523\n",
       "75%      12 days 00:00:00.494880500\n",
       "max         36 days 00:00:01.856095\n",
       "Name: datetime, dtype: object"
      ]
     },
     "execution_count": 10,
     "metadata": {},
     "output_type": "execute_result"
    }
   ],
   "source": [
    "gfb.datetime.diff().describe()"
   ]
  },
  {
   "cell_type": "code",
   "execution_count": 11,
   "id": "73eb1bb4-db9a-43ac-b580-919ebbb40db3",
   "metadata": {},
   "outputs": [
    {
     "data": {
      "text/plain": [
       "16"
      ]
     },
     "execution_count": 11,
     "metadata": {},
     "output_type": "execute_result"
    }
   ],
   "source": [
    "subset = gfb.set_index('datetime')\n",
    "#subset = subset[subset.index.month == 7] \n",
    "# Lots of selection opytion - random, first, last,e tc\n",
    "#subset = subset.groupby([subset.index.year, subset.index.month]).first()\n",
    "len(subset.fileID.to_list())"
   ]
  },
  {
   "cell_type": "code",
   "execution_count": 12,
   "id": "92d0372f-e390-4a1f-9106-e5db561c2996",
   "metadata": {},
   "outputs": [],
   "source": [
    "subset['date'] = pd.to_datetime(subset.startTime) #.dt.strftime('%Y%m%d')"
   ]
  },
  {
   "cell_type": "code",
   "execution_count": 13,
   "id": "d1f165b8-016b-449d-89d2-106c8b62d3d6",
   "metadata": {},
   "outputs": [
    {
     "data": {
      "text/plain": [
       "{'name': None,\n",
       " 'job_type': 'INSAR_ISCE_BURST',\n",
       " 'job_parameters': {'granules': [None, None],\n",
       "  'apply_water_mask': False,\n",
       "  'looks': '5x1'}}"
      ]
     },
     "execution_count": 13,
     "metadata": {},
     "output_type": "execute_result"
    }
   ],
   "source": [
    "job_definition = {\n",
    "  \"name\": None,\n",
    "  \"job_type\": \"INSAR_ISCE_BURST\",\n",
    "  \"job_parameters\": {\n",
    "      \"granules\": [None,None],\n",
    "      \"apply_water_mask\": False, #default=False not enabled?\n",
    "      \"looks\": \"5x1\", # '20x4', '10x2', '5x1' default=20x4\n",
    "  },\n",
    "}\n",
    "job_definition"
   ]
  },
  {
   "cell_type": "code",
   "execution_count": 14,
   "id": "1a20cc90-aca3-492c-a0c9-386fa1b2abd9",
   "metadata": {},
   "outputs": [],
   "source": [
    "# create interferogram job definitions\n",
    "jobs = [] # List of job dictionaries\n",
    "\n",
    "for n in [1,2,3]:\n",
    "    for i in range(len(subset)-n):\n",
    "        jobdef = copy.deepcopy(job_definition) #Avoid overwriting in-memory!\n",
    "        \n",
    "        ref = subset.iloc[i]\n",
    "        sec = subset.iloc[i+n]\n",
    "        jobname = f\"{burst}_{ref.date.strftime('%Y%m%d')}_{sec.date.strftime('%Y%m%d')}_5rlks\"\n",
    "\n",
    "        jobdef['name'] = jobname\n",
    "        jobdef['job_parameters']['granules'] = [ref.fileID, sec.fileID]\n",
    "        jobs.append(jobdef)"
   ]
  },
  {
   "cell_type": "code",
   "execution_count": 15,
   "id": "667e7664-f432-428f-8ac9-73601571889d",
   "metadata": {},
   "outputs": [
    {
     "name": "stdout",
     "output_type": "stream",
     "text": [
      "42\n"
     ]
    },
    {
     "data": {
      "text/plain": [
       "{'name': '121_258661_IW2_20230617_20230629_5rlks',\n",
       " 'job_type': 'INSAR_ISCE_BURST',\n",
       " 'job_parameters': {'granules': ['S1_258661_IW2_20230617T001146_VV_EB5D-BURST',\n",
       "   'S1_258661_IW2_20230629T001146_VV_8416-BURST'],\n",
       "  'apply_water_mask': False,\n",
       "  'looks': '5x1'}}"
      ]
     },
     "execution_count": 15,
     "metadata": {},
     "output_type": "execute_result"
    }
   ],
   "source": [
    "print(len(jobs))\n",
    "# NOTE: each job should complete in ~20minutes\n",
    "jobs[0]"
   ]
  },
  {
   "cell_type": "code",
   "execution_count": 16,
   "id": "e287a4e6",
   "metadata": {},
   "outputs": [
    {
     "data": {
      "text/plain": [
       "{'name': '121_258661_IW2_20230629_20230711_5rlks',\n",
       " 'job_type': 'INSAR_ISCE_BURST',\n",
       " 'job_parameters': {'granules': ['S1_258661_IW2_20230629T001146_VV_8416-BURST',\n",
       "   'S1_258661_IW2_20230711T001147_VV_6F6C-BURST'],\n",
       "  'apply_water_mask': False,\n",
       "  'looks': '5x1'}}"
      ]
     },
     "execution_count": 16,
     "metadata": {},
     "output_type": "execute_result"
    }
   ],
   "source": [
    "jobs[1]"
   ]
  },
  {
   "cell_type": "code",
   "execution_count": 17,
   "id": "c98434a2",
   "metadata": {},
   "outputs": [
    {
     "data": {
      "text/plain": [
       "[{'name': '121_258661_IW2_20230629_20230711_5rlks',\n",
       "  'job_type': 'INSAR_ISCE_BURST',\n",
       "  'job_parameters': {'granules': ['S1_258661_IW2_20230629T001146_VV_8416-BURST',\n",
       "    'S1_258661_IW2_20230711T001147_VV_6F6C-BURST'],\n",
       "   'apply_water_mask': False,\n",
       "   'looks': '5x1'}},\n",
       " {'name': '121_258661_IW2_20230629_20230816_5rlks',\n",
       "  'job_type': 'INSAR_ISCE_BURST',\n",
       "  'job_parameters': {'granules': ['S1_258661_IW2_20230629T001146_VV_8416-BURST',\n",
       "    'S1_258661_IW2_20230816T001149_VV_E142-BURST'],\n",
       "   'apply_water_mask': False,\n",
       "   'looks': '5x1'}},\n",
       " {'name': '121_258661_IW2_20230629_20230828_5rlks',\n",
       "  'job_type': 'INSAR_ISCE_BURST',\n",
       "  'job_parameters': {'granules': ['S1_258661_IW2_20230629T001146_VV_8416-BURST',\n",
       "    'S1_258661_IW2_20230828T001150_VV_A75C-BURST'],\n",
       "   'apply_water_mask': False,\n",
       "   'looks': '5x1'}}]"
      ]
     },
     "execution_count": 17,
     "metadata": {},
     "output_type": "execute_result"
    }
   ],
   "source": [
    "# For any given reference date we should have 3 jobs:\n",
    "[job for job in jobs if job['job_parameters']['granules'][0].startswith('S1_258661_IW2_20230629')]"
   ]
  },
  {
   "cell_type": "markdown",
   "id": "eeb3acbd-1a3a-4edb-9b3d-f3257b503100",
   "metadata": {},
   "source": [
    "## Submit!\n"
   ]
  },
  {
   "cell_type": "code",
   "execution_count": 18,
   "id": "77841e24-ce27-440c-94d0-d4a91b70e5cf",
   "metadata": {},
   "outputs": [],
   "source": [
    "jobs = hyp3.submit_prepared_jobs(jobs)"
   ]
  },
  {
   "cell_type": "code",
   "execution_count": 19,
   "id": "5daae035-7089-490a-bd5b-aee6560562ed",
   "metadata": {},
   "outputs": [],
   "source": [
    "# monitor jobs\n",
    "batch = hyp3.find_jobs(job_type='INSAR_ISCE_BURST')"
   ]
  },
  {
   "cell_type": "code",
   "execution_count": 20,
   "id": "de92a437-6d68-4fe0-a43d-a19fa1704eb5",
   "metadata": {},
   "outputs": [
    {
     "data": {
      "text/plain": [
       "status_code\n",
       "PENDING    42\n",
       "Name: count, dtype: int64"
      ]
     },
     "execution_count": 20,
     "metadata": {},
     "output_type": "execute_result"
    }
   ],
   "source": [
    "# NOTE: up to 85 running simultaneously\n",
    "df = pd.DataFrame([x.to_dict() for x in batch])\n",
    "df = df[df.name.str.startswith(burst)]\n",
    "df.status_code.value_counts()"
   ]
  },
  {
   "cell_type": "code",
   "execution_count": null,
   "id": "676b7f71-b4e6-4a68-8567-13b5587c0501",
   "metadata": {},
   "outputs": [],
   "source": []
  }
 ],
 "metadata": {
  "kernelspec": {
   "display_name": "hyp3",
   "language": "python",
   "name": "python3"
  },
  "language_info": {
   "codemirror_mode": {
    "name": "ipython",
    "version": 3
   },
   "file_extension": ".py",
   "mimetype": "text/x-python",
   "name": "python",
   "nbconvert_exporter": "python",
   "pygments_lexer": "ipython3",
   "version": "3.12.1"
  }
 },
 "nbformat": 4,
 "nbformat_minor": 5
}
